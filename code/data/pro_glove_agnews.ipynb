{
 "cells": [
  {
   "cell_type": "code",
   "execution_count": 36,
   "metadata": {
    "uuid": "eae96707-1c56-46f4-a670-e4ea6d317815"
   },
   "outputs": [],
   "source": [
    "import numpy as np\n",
    "import pandas as pd\n",
    "import torch\n",
    "import pickle\n",
    "from tqdm import tqdm_notebook as tqdm\n",
    "import os\n",
    "import re\n",
    "import pickle\n",
    "import nltk\n",
    "# nltk.download('punct')\n",
    "from nltk.corpus import stopwords\n",
    "from nltk.tokenize import word_tokenize\n",
    "\n"
   ]
  },
  {
   "cell_type": "code",
   "execution_count": 37,
   "metadata": {
    "uuid": "f4063a8f-f357-428a-bd58-01d66b61986f"
   },
   "outputs": [],
   "source": [
    "data_path = '~/workspace/ag_news_csv/'\n",
    "stop_words = set(stopwords.words(\"english\"))"
   ]
  },
  {
   "cell_type": "code",
   "execution_count": 38,
   "metadata": {
    "uuid": "84150e21-def9-40b3-87f3-b2efc5a98156"
   },
   "outputs": [],
   "source": [
    "train_df = pd.read_csv(data_path+'train.csv', header=None)\n",
    "train_text = np.array([v for v in train_df[2]])"
   ]
  },
  {
   "cell_type": "code",
   "execution_count": 39,
   "metadata": {
    "uuid": "02438159-832c-4432-8b0b-aec3d4f6048f"
   },
   "outputs": [
    {
     "data": {
      "application/vnd.jupyter.widget-view+json": {
       "model_id": "5e8a66710790455d8d7f42bcdd3ed841",
       "version_major": 2,
       "version_minor": 0
      },
      "text/plain": [
       "HBox(children=(IntProgress(value=0, max=120000), HTML(value='')))"
      ]
     },
     "metadata": {},
     "output_type": "display_data"
    },
    {
     "name": "stdout",
     "output_type": "stream",
     "text": [
      "\n",
      "whole number of distinct chars is 89349\n"
     ]
    }
   ],
   "source": [
    "char_freq = {}\n",
    "for i in tqdm(range(len(train_text))):\n",
    "    words = word_tokenize(train_text[i].lower())\n",
    "    \n",
    "    new_words = [word for word in words if word not in stop_words]\n",
    "    \n",
    "    for char in new_words:\n",
    "        if char not in char_freq.keys():\n",
    "            char_freq[char] = 1\n",
    "        else:\n",
    "            char_freq[char] += 1\n",
    "\n",
    "print('whole number of distinct chars is', len(char_freq))"
   ]
  },
  {
   "cell_type": "code",
   "execution_count": 40,
   "metadata": {
    "uuid": "1da591c4-a1f0-4de0-8f8c-dd04f6c5388d"
   },
   "outputs": [],
   "source": [
    "length = [lens for lens in char_freq.values()]\n"
   ]
  },
  {
   "cell_type": "code",
   "execution_count": 41,
   "metadata": {
    "uuid": "ed5dba5e-b941-422f-b231-7a324a6ea9ef"
   },
   "outputs": [
    {
     "data": {
      "text/plain": [
       "count     89349.000000\n",
       "mean         42.830854\n",
       "std         874.876597\n",
       "min           1.000000\n",
       "10%           1.000000\n",
       "25%           1.000000\n",
       "50%           2.000000\n",
       "60%           3.000000\n",
       "70%           6.000000\n",
       "75%           8.000000\n",
       "90%          40.000000\n",
       "95%         112.000000\n",
       "98%         330.040000\n",
       "99%         644.520000\n",
       "max      161120.000000\n",
       "dtype: float64"
      ]
     },
     "execution_count": 41,
     "metadata": {},
     "output_type": "execute_result"
    }
   ],
   "source": [
    "df_ana = pd.Series(length)\n",
    "df_ana.describe(percentiles=[0.1, 0.25, 0.5, 0.75, 0.6, 0.7, 0.9, 0.95, 0.98, 0.99])"
   ]
  },
  {
   "cell_type": "code",
   "execution_count": 42,
   "metadata": {
    "uuid": "a7bc8ab3-ad88-4119-8d6f-9cda72364127"
   },
   "outputs": [
    {
     "name": "stdout",
     "output_type": "stream",
     "text": [
      "whole number of distinct chars more frequent than 5 is 30461\n"
     ]
    }
   ],
   "source": [
    "min_count = 5\n",
    "word_freq = {i:j for i,j in char_freq.items() if j >= min_count}\n",
    "print('whole number of distinct chars more frequent than %d is %d'%(min_count, len(word_freq)))"
   ]
  },
  {
   "cell_type": "code",
   "execution_count": 43,
   "metadata": {
    "uuid": "2ccbda40-035a-4ab2-9cc7-466f99226ce6"
   },
   "outputs": [
    {
     "name": "stdout",
     "output_type": "stream",
     "text": [
      "<class 'list'>\n"
     ]
    }
   ],
   "source": [
    "sort_char_freq = sorted(word_freq.items(), key=lambda x:x[1], reverse=True)\n",
    "print(type(sort_char_freq))"
   ]
  },
  {
   "cell_type": "code",
   "execution_count": 44,
   "metadata": {
    "uuid": "fd12f047-fd35-4ac6-b6f6-8dece6461f41"
   },
   "outputs": [],
   "source": [
    "f = open(\"../glove_vec.pkl\", 'rb')\n",
    "vector = pickle.load(f)"
   ]
  },
  {
   "cell_type": "code",
   "execution_count": 45,
   "metadata": {
    "uuid": "8008c713-9f31-4168-84fe-2bbb127ce46e"
   },
   "outputs": [],
   "source": [
    "word2id = {}\n",
    "word2id['<pad>'] = 0\n",
    "word2id['<unk>'] = 1\n",
    "glove_emb = []"
   ]
  },
  {
   "cell_type": "code",
   "execution_count": 46,
   "metadata": {
    "uuid": "4a0f4b51-71ce-42ba-9ee8-5b0a04736f07"
   },
   "outputs": [],
   "source": [
    "for a in sort_char_freq:\n",
    "\n",
    "    if a[0] in vector.keys():\n",
    "        word2id[a[0]] = len(word2id)\n",
    "        glove_emb.append(vector[a[0]])\n",
    "id2word = {j:i for i,j in word2id.items()}"
   ]
  },
  {
   "cell_type": "code",
   "execution_count": 47,
   "metadata": {
    "uuid": "f9ce195f-518a-401b-a9d5-1ffa9500d2a4"
   },
   "outputs": [],
   "source": [
    "f_word2id = open(\"./word2id.pkl\", 'wb')\n",
    "pickle.dump(word2id, f_word2id)\n",
    "f_id2word = open(\"./id2word.pkl\", 'wb')\n",
    "pickle.dump(id2word, f_id2word)\n",
    "f_glove_emb= open(\"./glove_emb.pkl\", 'wb')\n",
    "pickle.dump(glove_emb, f_glove_emb)"
   ]
  },
  {
   "cell_type": "code",
   "execution_count": 48,
   "metadata": {
    "uuid": "0d654a73-7ac4-4b2d-b068-01eba2fea500"
   },
   "outputs": [
    {
     "name": "stdout",
     "output_type": "stream",
     "text": [
      "29729\n"
     ]
    }
   ],
   "source": [
    "print(len(word2id))"
   ]
  },
  {
   "cell_type": "code",
   "execution_count": null,
   "metadata": {
    "uuid": "9001fd82-6672-402b-b927-b6710c035581"
   },
   "outputs": [],
   "source": []
  }
 ],
 "metadata": {
  "kernelspec": {
   "display_name": "Python 3",
   "language": "python",
   "name": "python3"
  },
  "language_info": {
   "codemirror_mode": {
    "name": "ipython",
    "version": 3
   },
   "file_extension": ".py",
   "mimetype": "text/x-python",
   "name": "python",
   "nbconvert_exporter": "python",
   "pygments_lexer": "ipython3",
   "version": "3.6.12"
  }
 },
 "nbformat": 4,
 "nbformat_minor": 4
}
