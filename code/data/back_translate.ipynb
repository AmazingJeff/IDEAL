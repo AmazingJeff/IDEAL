{
 "cells": [
  {
   "cell_type": "code",
   "execution_count": null,
   "metadata": {
    "uuid": "39a94c6c-1d9a-4caa-86f3-e9072ed2bbc8"
   },
   "outputs": [],
   "source": [
    "import pandas as pd\n",
    "import numpy as np\n",
    "import torch\n",
    "import pickle\n",
    "from tqdm import tqdm_notebook as tqdm\n",
    "import os\n",
    "import re\n",
    "import pickle"
   ]
  },
  {
   "cell_type": "code",
   "execution_count": null,
   "metadata": {
    "uuid": "f2b25d90-651c-4157-8b2b-e94924f46e88"
   },
   "outputs": [],
   "source": [
    "os.environ[\"CUDA_VISIBLE_DEVICES\"] = \"0,1\"\n",
    "device = torch.device(\"cuda\" if torch.cuda.is_available() else \"cpu\")\n",
    "n_gpu = torch.cuda.device_count()\n",
    "print(\"gpu num: \", n_gpu)"
   ]
  },
  {
   "cell_type": "markdown",
   "metadata": {
    "uuid": "dbac498e-34ce-443a-9ba9-c7cb18b80613"
   },
   "source": [
    "## Load pre-trained translation model from fairseq.\n",
    "You can always use another middle language or other models."
   ]
  },
  {
   "cell_type": "code",
   "execution_count": null,
   "metadata": {
    "scrolled": true,
    "uuid": "7598b8c5-2437-4dbc-b6d1-426f004b7424"
   },
   "outputs": [],
   "source": [
    "# Load translation model\n",
    "en2ru = torch.hub.load('pytorch/fairseq', 'transformer.wmt19.en-ru.single_model', tokenizer='moses', bpe='fastbpe')\n",
    "ru2en = torch.hub.load('pytorch/fairseq', 'transformer.wmt19.ru-en.single_model', tokenizer='moses', bpe='fastbpe')"
   ]
  },
  {
   "cell_type": "code",
   "execution_count": null,
   "metadata": {
    "scrolled": true,
    "uuid": "2c457720-ab26-4693-8dc2-c2514d8077f4"
   },
   "outputs": [],
   "source": [
    "en2de = torch.hub.load('pytorch/fairseq', 'transformer.wmt19.en-de.single_model', tokenizer='moses', bpe='fastbpe')\n",
    "de2en = torch.hub.load('pytorch/fairseq', 'transformer.wmt19.de-en.single_model', tokenizer='moses', bpe='fastbpe')"
   ]
  },
  {
   "cell_type": "code",
   "execution_count": null,
   "metadata": {
    "scrolled": true,
    "uuid": "42e0ec89-a9cf-470e-9415-2d890ef65715"
   },
   "outputs": [],
   "source": [
    "en2ru.cuda()\n",
    "ru2en.cuda()"
   ]
  },
  {
   "cell_type": "code",
   "execution_count": null,
   "metadata": {
    "scrolled": true,
    "uuid": "5c82c636-7b7a-4428-9f5f-6b795b3a7267"
   },
   "outputs": [],
   "source": [
    "en2de.cuda()\n",
    "de2en.cuda()"
   ]
  },
  {
   "cell_type": "markdown",
   "metadata": {
    "uuid": "0ea9e04c-ffb7-44bf-8dd6-1df35ee40119"
   },
   "source": [
    "## Load data"
   ]
  },
  {
   "cell_type": "code",
   "execution_count": null,
   "metadata": {
    "uuid": "dca79cb1-1ef9-4116-8dc4-ade43ca108b1"
   },
   "outputs": [],
   "source": [
    "path = './'\n",
    "train_df = pd.read_csv(path+'train.csv', header=None)\n",
    "train_df.head()"
   ]
  },
  {
   "cell_type": "code",
   "execution_count": null,
   "metadata": {
    "uuid": "5ec16055-4bee-48ce-96dd-eba3970fc0a3"
   },
   "outputs": [],
   "source": [
    "train_labels = [v-1 for v in train_df[0]]\n",
    "train_text = [v for v in train_df[2]]"
   ]
  },
  {
   "cell_type": "code",
   "execution_count": null,
   "metadata": {
    "uuid": "8b59d568-d101-4266-80cb-6239b70ac5c4"
   },
   "outputs": [],
   "source": [
    "train_text[0]"
   ]
  },
  {
   "cell_type": "code",
   "execution_count": null,
   "metadata": {
    "uuid": "3b8f152d-59c7-41ad-9153-3c6d0b4cc0aa"
   },
   "outputs": [],
   "source": [
    "len(train_text)"
   ]
  },
  {
   "cell_type": "code",
   "execution_count": null,
   "metadata": {
    "uuid": "095846b8-965b-45dd-8a5f-3ac56016cbb5"
   },
   "outputs": [],
   "source": [
    "max(train_labels)"
   ]
  },
  {
   "cell_type": "code",
   "execution_count": null,
   "metadata": {
    "uuid": "10e06efc-3be3-447c-94e8-f30127a12ed9"
   },
   "outputs": [],
   "source": [
    "# split and get our unlabeled training data\n",
    "def train_val_split(labels, n_labeled_per_class, n_labels, seed = 0):\n",
    "    np.random.seed(seed)\n",
    "    labels = np.array(labels)\n",
    "    train_labeled_idxs = []\n",
    "    train_unlabeled_idxs = []\n",
    "    val_idxs = []\n",
    "\n",
    "    for i in range(n_labels):\n",
    "        idxs = np.where(labels == i)[0]\n",
    "        np.random.shuffle(idxs)\n",
    "        train_labeled_idxs.extend(idxs[:n_labeled_per_class])\n",
    "        train_unlabeled_idxs.extend(idxs[:])\n",
    "        val_idxs.extend(idxs[-3000:])\n",
    "    \n",
    "    np.random.shuffle(train_labeled_idxs)\n",
    "    np.random.shuffle(train_unlabeled_idxs)\n",
    "    np.random.shuffle(val_idxs)\n",
    "    return train_labeled_idxs, train_unlabeled_idxs, val_idxs"
   ]
  },
  {
   "cell_type": "code",
   "execution_count": null,
   "metadata": {
    "uuid": "c398138e-0e88-4262-bd62-a74a4e26085c"
   },
   "outputs": [],
   "source": [
    "train_labeled_idxs, train_unlabeled_idxs, val_idxs = train_val_split(train_labels, 500, 4)"
   ]
  },
  {
   "cell_type": "code",
   "execution_count": null,
   "metadata": {
    "uuid": "65ba56bb-e8cf-4f09-8fd0-d9b741c23cce"
   },
   "outputs": [],
   "source": [
    "len(train_unlabeled_idxs)"
   ]
  },
  {
   "cell_type": "code",
   "execution_count": null,
   "metadata": {
    "uuid": "d65dbb4f-2ad7-4fa8-be30-60bea52f221f"
   },
   "outputs": [],
   "source": [
    "idxs = train_unlabeled_idxs"
   ]
  },
  {
   "cell_type": "code",
   "execution_count": null,
   "metadata": {
    "uuid": "4a51b754-e9d6-4e3d-97ea-42e93086ed92"
   },
   "outputs": [],
   "source": [
    "idxs[0]"
   ]
  },
  {
   "cell_type": "markdown",
   "metadata": {
    "uuid": "e723c333-3e67-40a3-a62a-745e18e4ff46"
   },
   "source": [
    "## Back translation process\n",
    "You can tune the temperature in the translation process to control the diversity."
   ]
  },
  {
   "cell_type": "code",
   "execution_count": null,
   "metadata": {
    "uuid": "cbaa71e7-333f-4ee1-a3a8-be0161e24110"
   },
   "outputs": [],
   "source": [
    "# back translate using Russian as middle language\n",
    "def translate_ru(start, end, file_name):\n",
    "    trans_result = {}\n",
    "    for id in tqdm(range(start, end)):\n",
    "        trans_result[idxs[id]] = ru2en.translate(en2ru.translate(train_text[idxs[id]],  sampling = True, temperature = 0.9),  sampling = True, temperature = 0.9)\n",
    "        if id % 500 == 0:\n",
    "            with open(file_name, 'wb') as f:\n",
    "                pickle.dump(trans_result, f)\n",
    "    with open(file_name, 'wb') as f:\n",
    "        pickle.dump(trans_result, f)"
   ]
  },
  {
   "cell_type": "code",
   "execution_count": null,
   "metadata": {
    "uuid": "84376f4d-a722-4c32-9914-fe42d8522ab3"
   },
   "outputs": [],
   "source": [
    "# back translate using German as middle language\n",
    "def translate_de(start, end, file_name):\n",
    "    trans_result = {}\n",
    "    for id in tqdm(range(start, end)):\n",
    "        trans_result[idxs[id]] = de2en.translate(en2de.translate(train_text[idxs[id]],  sampling = True, temperature = 0.9),  sampling = True, temperature = 0.9)\n",
    "        if id % 500 == 0:\n",
    "            with open(file_name, 'wb') as f:\n",
    "                pickle.dump(trans_result, f)\n",
    "    with open(file_name, 'wb') as f:\n",
    "        pickle.dump(trans_result, f)"
   ]
  },
  {
   "cell_type": "code",
   "execution_count": null,
   "metadata": {
    "scrolled": true,
    "uuid": "fb91c42b-eaed-4bac-86c6-1f59ca546c1c"
   },
   "outputs": [],
   "source": [
    "translate_de(0,120000, 'de_1.pkl')"
   ]
  },
  {
   "cell_type": "code",
   "execution_count": null,
   "metadata": {
    "uuid": "df872253-4216-4ef7-b662-3e762ad0e2f3"
   },
   "outputs": [],
   "source": [
    "translate_ru(0,120000, 'ru_1.pkl')"
   ]
  },
  {
   "cell_type": "code",
   "execution_count": null,
   "metadata": {
    "uuid": "e2950c1d-d926-4b57-9501-3a07ceea5b8b"
   },
   "outputs": [],
   "source": []
  },
  {
   "cell_type": "code",
   "execution_count": null,
   "metadata": {
    "uuid": "6827afad-8ab5-4297-8fce-2ac351a18197"
   },
   "outputs": [],
   "source": []
  }
 ],
 "metadata": {
  "kernelspec": {
   "display_name": "Python 3",
   "language": "python",
   "name": "python3"
  },
  "language_info": {
   "codemirror_mode": {
    "name": "ipython",
    "version": 3
   },
   "file_extension": ".py",
   "mimetype": "text/x-python",
   "name": "python",
   "nbconvert_exporter": "python",
   "pygments_lexer": "ipython3",
   "version": "3.6.12"
  }
 },
 "nbformat": 4,
 "nbformat_minor": 4
}
