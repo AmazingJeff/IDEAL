{
 "cells": [
  {
   "cell_type": "code",
   "execution_count": 1,
   "metadata": {
    "uuid": "186f7d31-b90b-44c3-8ebe-bf91f5422d0f"
   },
   "outputs": [],
   "source": [
    "import numpy as np\n",
    "import pandas as pd\n",
    "import torch\n",
    "import pickle\n",
    "from tqdm import tqdm_notebook as tqdm\n",
    "import os\n",
    "import re\n",
    "import pickle"
   ]
  },
  {
   "cell_type": "code",
   "execution_count": 2,
   "metadata": {
    "uuid": "13745d73-bec4-4757-bff5-73eb1d206bf4"
   },
   "outputs": [],
   "source": [
    "def clean_sentence(sent):\n",
    "    try:\n",
    "        sent = sent.replace('\\n', ' ').replace('\\\\n', ' ').replace('\\\\', ' ')\n",
    "\n",
    "        sent = re.sub('<[^<]+?>', '', sent)\n",
    "\n",
    "        return sent.lower()\n",
    "    except:\n",
    "        print(sent)\n",
    "        return ' '"
   ]
  },
  {
   "cell_type": "code",
   "execution_count": 3,
   "metadata": {
    "uuid": "8615b73e-19d7-4eb3-ba03-fdc336f2b215"
   },
   "outputs": [
    {
     "data": {
      "text/html": [
       "<div>\n",
       "<style scoped>\n",
       "    .dataframe tbody tr th:only-of-type {\n",
       "        vertical-align: middle;\n",
       "    }\n",
       "\n",
       "    .dataframe tbody tr th {\n",
       "        vertical-align: top;\n",
       "    }\n",
       "\n",
       "    .dataframe thead th {\n",
       "        text-align: right;\n",
       "    }\n",
       "</style>\n",
       "<table border=\"1\" class=\"dataframe\">\n",
       "  <thead>\n",
       "    <tr style=\"text-align: right;\">\n",
       "      <th></th>\n",
       "      <th>0</th>\n",
       "      <th>1</th>\n",
       "      <th>2</th>\n",
       "    </tr>\n",
       "  </thead>\n",
       "  <tbody>\n",
       "    <tr>\n",
       "      <th>0</th>\n",
       "      <td>3</td>\n",
       "      <td>Wall St. Bears Claw Back Into the Black (Reuters)</td>\n",
       "      <td>Reuters - Short-sellers, Wall Street's dwindli...</td>\n",
       "    </tr>\n",
       "    <tr>\n",
       "      <th>1</th>\n",
       "      <td>3</td>\n",
       "      <td>Carlyle Looks Toward Commercial Aerospace (Reu...</td>\n",
       "      <td>Reuters - Private investment firm Carlyle Grou...</td>\n",
       "    </tr>\n",
       "    <tr>\n",
       "      <th>2</th>\n",
       "      <td>3</td>\n",
       "      <td>Oil and Economy Cloud Stocks' Outlook (Reuters)</td>\n",
       "      <td>Reuters - Soaring crude prices plus worries\\ab...</td>\n",
       "    </tr>\n",
       "    <tr>\n",
       "      <th>3</th>\n",
       "      <td>3</td>\n",
       "      <td>Iraq Halts Oil Exports from Main Southern Pipe...</td>\n",
       "      <td>Reuters - Authorities have halted oil export\\f...</td>\n",
       "    </tr>\n",
       "    <tr>\n",
       "      <th>4</th>\n",
       "      <td>3</td>\n",
       "      <td>Oil prices soar to all-time record, posing new...</td>\n",
       "      <td>AFP - Tearaway world oil prices, toppling reco...</td>\n",
       "    </tr>\n",
       "  </tbody>\n",
       "</table>\n",
       "</div>"
      ],
      "text/plain": [
       "   0                                                  1  \\\n",
       "0  3  Wall St. Bears Claw Back Into the Black (Reuters)   \n",
       "1  3  Carlyle Looks Toward Commercial Aerospace (Reu...   \n",
       "2  3    Oil and Economy Cloud Stocks' Outlook (Reuters)   \n",
       "3  3  Iraq Halts Oil Exports from Main Southern Pipe...   \n",
       "4  3  Oil prices soar to all-time record, posing new...   \n",
       "\n",
       "                                                   2  \n",
       "0  Reuters - Short-sellers, Wall Street's dwindli...  \n",
       "1  Reuters - Private investment firm Carlyle Grou...  \n",
       "2  Reuters - Soaring crude prices plus worries\\ab...  \n",
       "3  Reuters - Authorities have halted oil export\\f...  \n",
       "4  AFP - Tearaway world oil prices, toppling reco...  "
      ]
     },
     "execution_count": 3,
     "metadata": {},
     "output_type": "execute_result"
    }
   ],
   "source": [
    "path = './'\n",
    "train_df = pd.read_csv(path+'train_ori.csv', header=None)\n",
    "train_df.head()"
   ]
  },
  {
   "cell_type": "code",
   "execution_count": 4,
   "metadata": {
    "collapsed": true,
    "jupyter": {
     "outputs_hidden": true
    },
    "uuid": "e0e77dc7-5367-4356-9eb3-32f81e7befa5"
   },
   "outputs": [
    {
     "data": {
      "text/plain": [
       "0         3\n",
       "1         3\n",
       "2         3\n",
       "3         3\n",
       "4         3\n",
       "5         3\n",
       "6         3\n",
       "7         3\n",
       "8         3\n",
       "9         3\n",
       "10        3\n",
       "11        3\n",
       "12        3\n",
       "13        3\n",
       "14        3\n",
       "15        3\n",
       "16        3\n",
       "17        3\n",
       "18        3\n",
       "19        3\n",
       "20        3\n",
       "21        3\n",
       "22        3\n",
       "23        3\n",
       "24        3\n",
       "25        3\n",
       "26        3\n",
       "27        3\n",
       "28        3\n",
       "29        3\n",
       "         ..\n",
       "119970    2\n",
       "119971    1\n",
       "119972    1\n",
       "119973    1\n",
       "119974    3\n",
       "119975    2\n",
       "119976    3\n",
       "119977    3\n",
       "119978    3\n",
       "119979    3\n",
       "119980    3\n",
       "119981    3\n",
       "119982    1\n",
       "119983    1\n",
       "119984    1\n",
       "119985    1\n",
       "119986    1\n",
       "119987    1\n",
       "119988    1\n",
       "119989    2\n",
       "119990    1\n",
       "119991    2\n",
       "119992    1\n",
       "119993    1\n",
       "119994    1\n",
       "119995    1\n",
       "119996    2\n",
       "119997    2\n",
       "119998    2\n",
       "119999    2\n",
       "Name: 0, Length: 120000, dtype: int64"
      ]
     },
     "execution_count": 4,
     "metadata": {},
     "output_type": "execute_result"
    }
   ],
   "source": [
    "train_df[0]"
   ]
  },
  {
   "cell_type": "code",
   "execution_count": null,
   "metadata": {
    "uuid": "b35f59aa-4d63-448a-a32d-55e1e2def25f"
   },
   "outputs": [],
   "source": []
  },
  {
   "cell_type": "code",
   "execution_count": 5,
   "metadata": {
    "uuid": "08aae47e-45dc-4158-a55a-9c91f22bd1e6"
   },
   "outputs": [],
   "source": [
    "train_data = {'0':[], '1':[], '2':[]}\n"
   ]
  },
  {
   "cell_type": "code",
   "execution_count": 6,
   "metadata": {
    "uuid": "c70457b6-311b-4361-a148-31dbe32a2eaa"
   },
   "outputs": [],
   "source": [
    "from tqdm import tqdm_notebook as iqdm\n",
    "\n"
   ]
  },
  {
   "cell_type": "code",
   "execution_count": 7,
   "metadata": {
    "uuid": "223f3444-ba8e-472d-b90c-189d1817c409"
   },
   "outputs": [
    {
     "data": {
      "application/vnd.jupyter.widget-view+json": {
       "model_id": "384328fb89f94e14923acafa79ab2318",
       "version_major": 2,
       "version_minor": 0
      },
      "text/plain": [
       "HBox(children=(IntProgress(value=0, max=120000), HTML(value='')))"
      ]
     },
     "metadata": {},
     "output_type": "display_data"
    },
    {
     "name": "stdout",
     "output_type": "stream",
     "text": [
      "\n"
     ]
    }
   ],
   "source": [
    "for i in tqdm(range(0, len(train_df[0]))):\n",
    "    train_data['0'].append(train_df[0][i])\n",
    "    train_data['1'].append(train_df[0][i])\n",
    "    temp = ''\n",
    "    \n",
    "#     temp = clean_sentence(train_df[1][i]) + ' ' + clean_sentence(train_df[2][i])\n",
    "    \n",
    "    temp =  clean_sentence(train_df[2][i])\n",
    "    \n",
    "    train_data['2'].append(temp)"
   ]
  },
  {
   "cell_type": "code",
   "execution_count": 7,
   "metadata": {
    "uuid": "639e3e0e-457c-4599-bcc6-0c9746c40a85"
   },
   "outputs": [
    {
     "data": {
      "application/vnd.jupyter.widget-view+json": {
       "model_id": "5aab42220dcc4a34b6e9eba6cee32582",
       "version_major": 2,
       "version_minor": 0
      },
      "text/plain": [
       "HBox(children=(IntProgress(value=1, bar_style='info', max=1), HTML(value='')))"
      ]
     },
     "metadata": {},
     "output_type": "display_data"
    },
    {
     "name": "stdout",
     "output_type": "stream",
     "text": [
      "\n",
      "['reuters', '-', 'authorities', 'have', 'halted', 'oil', 'export', 'flows', 'from', 'the', 'main', 'pipeline', 'in', 'southern', 'iraq', 'after', 'intelligence', 'showed', 'a', 'rebel', 'militia', 'could', 'strike', 'infrastructure', ',', 'an', 'oil', 'official', 'said', 'on', 'saturday', '.']\n"
     ]
    }
   ],
   "source": [
    "words = []\n",
    "idx = 0\n",
    "word2idx = {}\n",
    "vector = {}\n",
    "# vectors = bcolz.carray(np.zeros(1), rootdir=f'{glove_path}/6B.50.dat', mode='w')\n",
    "\n",
    "with open('../glove.42B.300d.txt', 'rb') as f:\n",
    "    for l in tqdm(f):\n",
    "        line = l.decode().split()\n",
    "        word = line[0]\n",
    "        vector[word] = np.array(line[1:]).astype(np.float)\n",
    "#         words.append(word)\n",
    "#         word2idx[word] = idx\n",
    "#         idx += 1\n",
    "#         vect = np.array(line[1:]).astype(np.float)\n",
    "\n",
    "#         vectors.append(vect)\n",
    "f = open(\"../glove_vec.pkl\", 'wb')\n",
    "pickle.dump(vector, f)\n",
    "# vectors = bcolz.carray(vectors[1:].reshape((400000, 50)), rootdir=f'{glove_path}/6B.50.dat', mode='w')\n",
    "# vectors.flush()\n",
    "# pickle.dump(words, open(f'{glove_path}/6B.50_words.pkl', 'wb'))\n",
    "# pickle.dump(word2idx, open(f'{glove_path}/6B.50_idx.pkl', 'wb'))\n",
    "\n",
    "train_df[2][3]\n",
    "train_df[2][3].lower()\n",
    "r = clean_sentence(train_df[2][3].lower())\n",
    "import nltk\n",
    "# nltk.download('punct')\n",
    "from nltk.corpus import stopwords\n",
    "from nltk.tokenize import word_tokenize\n",
    "\n",
    "stop_words = set(stopwords.words(\"english\"))\n",
    "words = word_tokenize(r)\n",
    "new_words = [word for word in words if word not in stop_words]\n",
    "print(words)"
   ]
  },
  {
   "cell_type": "code",
   "execution_count": null,
   "metadata": {
    "uuid": "34099198-2a23-4b5d-80db-0fa4a7d6defa"
   },
   "outputs": [],
   "source": []
  },
  {
   "cell_type": "code",
   "execution_count": 8,
   "metadata": {
    "uuid": "c635f7b3-0d33-4adf-bc01-384a9d6f76b9"
   },
   "outputs": [
    {
     "data": {
      "text/html": [
       "<div>\n",
       "<style scoped>\n",
       "    .dataframe tbody tr th:only-of-type {\n",
       "        vertical-align: middle;\n",
       "    }\n",
       "\n",
       "    .dataframe tbody tr th {\n",
       "        vertical-align: top;\n",
       "    }\n",
       "\n",
       "    .dataframe thead th {\n",
       "        text-align: right;\n",
       "    }\n",
       "</style>\n",
       "<table border=\"1\" class=\"dataframe\">\n",
       "  <thead>\n",
       "    <tr style=\"text-align: right;\">\n",
       "      <th></th>\n",
       "      <th>0</th>\n",
       "      <th>1</th>\n",
       "      <th>2</th>\n",
       "    </tr>\n",
       "  </thead>\n",
       "  <tbody>\n",
       "    <tr>\n",
       "      <th>0</th>\n",
       "      <td>3</td>\n",
       "      <td>Fears for T N pension after talks</td>\n",
       "      <td>Unions representing workers at Turner   Newall...</td>\n",
       "    </tr>\n",
       "    <tr>\n",
       "      <th>1</th>\n",
       "      <td>4</td>\n",
       "      <td>The Race is On: Second Private Team Sets Launc...</td>\n",
       "      <td>SPACE.com - TORONTO, Canada -- A second\\team o...</td>\n",
       "    </tr>\n",
       "    <tr>\n",
       "      <th>2</th>\n",
       "      <td>4</td>\n",
       "      <td>Ky. Company Wins Grant to Study Peptides (AP)</td>\n",
       "      <td>AP - A company founded by a chemistry research...</td>\n",
       "    </tr>\n",
       "    <tr>\n",
       "      <th>3</th>\n",
       "      <td>4</td>\n",
       "      <td>Prediction Unit Helps Forecast Wildfires (AP)</td>\n",
       "      <td>AP - It's barely dawn when Mike Fitzpatrick st...</td>\n",
       "    </tr>\n",
       "    <tr>\n",
       "      <th>4</th>\n",
       "      <td>4</td>\n",
       "      <td>Calif. Aims to Limit Farm-Related Smog (AP)</td>\n",
       "      <td>AP - Southern California's smog-fighting agenc...</td>\n",
       "    </tr>\n",
       "  </tbody>\n",
       "</table>\n",
       "</div>"
      ],
      "text/plain": [
       "   0                                                  1  \\\n",
       "0  3                  Fears for T N pension after talks   \n",
       "1  4  The Race is On: Second Private Team Sets Launc...   \n",
       "2  4      Ky. Company Wins Grant to Study Peptides (AP)   \n",
       "3  4      Prediction Unit Helps Forecast Wildfires (AP)   \n",
       "4  4        Calif. Aims to Limit Farm-Related Smog (AP)   \n",
       "\n",
       "                                                   2  \n",
       "0  Unions representing workers at Turner   Newall...  \n",
       "1  SPACE.com - TORONTO, Canada -- A second\\team o...  \n",
       "2  AP - A company founded by a chemistry research...  \n",
       "3  AP - It's barely dawn when Mike Fitzpatrick st...  \n",
       "4  AP - Southern California's smog-fighting agenc...  "
      ]
     },
     "execution_count": 8,
     "metadata": {},
     "output_type": "execute_result"
    }
   ],
   "source": [
    "path = './'\n",
    "test_df = pd.read_csv(path+'test_ori.csv', header=None)\n",
    "test_df.head()"
   ]
  },
  {
   "cell_type": "code",
   "execution_count": 9,
   "metadata": {
    "uuid": "76e3ed40-2fbd-4666-8dfa-632736ac9d04"
   },
   "outputs": [
    {
     "data": {
      "application/vnd.jupyter.widget-view+json": {
       "model_id": "1e47bc4081d5485f91e08fc698b2f13e",
       "version_major": 2,
       "version_minor": 0
      },
      "text/plain": [
       "HBox(children=(IntProgress(value=0, max=7600), HTML(value='')))"
      ]
     },
     "metadata": {},
     "output_type": "display_data"
    },
    {
     "name": "stdout",
     "output_type": "stream",
     "text": [
      "\n"
     ]
    }
   ],
   "source": [
    "test_data = {'0':[], '1':[], '2':[]}\n",
    "for i in tqdm(range(0, len(test_df[0]))):\n",
    "    test_data['0'].append(test_df[0][i])\n",
    "    test_data['1'].append(test_df[0][i])\n",
    "    temp = ''\n",
    "    try:\n",
    "#         temp = clean_sentence(test_df[1][i]) + ' ' + clean_sentence(test_df[2][i]) \n",
    "        \n",
    "        temp = clean_sentence(test_df[2][i]) \n",
    "    except:\n",
    "        print(test_df[1][i], test_df[2][i])\n",
    "        break\n",
    "    test_data['2'].append(temp)\n",
    "    \n",
    "    \n",
    "    "
   ]
  },
  {
   "cell_type": "code",
   "execution_count": null,
   "metadata": {
    "uuid": "e2afb58b-1ec0-4863-98bf-b997d5ecd0d1"
   },
   "outputs": [],
   "source": []
  },
  {
   "cell_type": "code",
   "execution_count": 10,
   "metadata": {
    "uuid": "b5bb0d55-8969-4986-aec1-2762a641e326"
   },
   "outputs": [],
   "source": [
    "train_df_ = pd.DataFrame.from_dict(train_data)\n",
    "\n",
    "\n"
   ]
  },
  {
   "cell_type": "code",
   "execution_count": 11,
   "metadata": {
    "uuid": "d1fe2c47-b1b4-442a-8be0-1d8fe79fe290"
   },
   "outputs": [],
   "source": [
    "\n",
    "\n",
    "test_df_ = pd.DataFrame.from_dict(test_data)\n",
    "\n",
    "\n",
    "\n"
   ]
  },
  {
   "cell_type": "code",
   "execution_count": 12,
   "metadata": {
    "uuid": "e3fae8cb-764d-4746-af98-fd8ca99973fc"
   },
   "outputs": [
    {
     "data": {
      "text/html": [
       "<div>\n",
       "<style scoped>\n",
       "    .dataframe tbody tr th:only-of-type {\n",
       "        vertical-align: middle;\n",
       "    }\n",
       "\n",
       "    .dataframe tbody tr th {\n",
       "        vertical-align: top;\n",
       "    }\n",
       "\n",
       "    .dataframe thead th {\n",
       "        text-align: right;\n",
       "    }\n",
       "</style>\n",
       "<table border=\"1\" class=\"dataframe\">\n",
       "  <thead>\n",
       "    <tr style=\"text-align: right;\">\n",
       "      <th></th>\n",
       "      <th>0</th>\n",
       "      <th>1</th>\n",
       "      <th>2</th>\n",
       "    </tr>\n",
       "  </thead>\n",
       "  <tbody>\n",
       "    <tr>\n",
       "      <th>0</th>\n",
       "      <td>3</td>\n",
       "      <td>3</td>\n",
       "      <td>reuters - short-sellers, wall street's dwindli...</td>\n",
       "    </tr>\n",
       "    <tr>\n",
       "      <th>1</th>\n",
       "      <td>3</td>\n",
       "      <td>3</td>\n",
       "      <td>reuters - private investment firm carlyle grou...</td>\n",
       "    </tr>\n",
       "    <tr>\n",
       "      <th>2</th>\n",
       "      <td>3</td>\n",
       "      <td>3</td>\n",
       "      <td>reuters - soaring crude prices plus worries ab...</td>\n",
       "    </tr>\n",
       "    <tr>\n",
       "      <th>3</th>\n",
       "      <td>3</td>\n",
       "      <td>3</td>\n",
       "      <td>reuters - authorities have halted oil export f...</td>\n",
       "    </tr>\n",
       "    <tr>\n",
       "      <th>4</th>\n",
       "      <td>3</td>\n",
       "      <td>3</td>\n",
       "      <td>afp - tearaway world oil prices, toppling reco...</td>\n",
       "    </tr>\n",
       "    <tr>\n",
       "      <th>5</th>\n",
       "      <td>3</td>\n",
       "      <td>3</td>\n",
       "      <td>reuters - stocks ended slightly higher on frid...</td>\n",
       "    </tr>\n",
       "    <tr>\n",
       "      <th>6</th>\n",
       "      <td>3</td>\n",
       "      <td>3</td>\n",
       "      <td>ap - assets of the nation's retail money marke...</td>\n",
       "    </tr>\n",
       "    <tr>\n",
       "      <th>7</th>\n",
       "      <td>3</td>\n",
       "      <td>3</td>\n",
       "      <td>usatoday.com - retail sales bounced back a bit...</td>\n",
       "    </tr>\n",
       "    <tr>\n",
       "      <th>8</th>\n",
       "      <td>3</td>\n",
       "      <td>3</td>\n",
       "      <td>forbes.com - after earning a ph.d. in sociolog...</td>\n",
       "    </tr>\n",
       "    <tr>\n",
       "      <th>9</th>\n",
       "      <td>3</td>\n",
       "      <td>3</td>\n",
       "      <td>new york (reuters) - short-sellers, wall stre...</td>\n",
       "    </tr>\n",
       "  </tbody>\n",
       "</table>\n",
       "</div>"
      ],
      "text/plain": [
       "   0  1                                                  2\n",
       "0  3  3  reuters - short-sellers, wall street's dwindli...\n",
       "1  3  3  reuters - private investment firm carlyle grou...\n",
       "2  3  3  reuters - soaring crude prices plus worries ab...\n",
       "3  3  3  reuters - authorities have halted oil export f...\n",
       "4  3  3  afp - tearaway world oil prices, toppling reco...\n",
       "5  3  3  reuters - stocks ended slightly higher on frid...\n",
       "6  3  3  ap - assets of the nation's retail money marke...\n",
       "7  3  3  usatoday.com - retail sales bounced back a bit...\n",
       "8  3  3  forbes.com - after earning a ph.d. in sociolog...\n",
       "9  3  3   new york (reuters) - short-sellers, wall stre..."
      ]
     },
     "execution_count": 12,
     "metadata": {},
     "output_type": "execute_result"
    }
   ],
   "source": [
    "train_df_[:10]"
   ]
  },
  {
   "cell_type": "code",
   "execution_count": 13,
   "metadata": {
    "uuid": "2b1ea77a-d764-4eb5-956e-831efdd5a67c"
   },
   "outputs": [
    {
     "data": {
      "text/html": [
       "<div>\n",
       "<style scoped>\n",
       "    .dataframe tbody tr th:only-of-type {\n",
       "        vertical-align: middle;\n",
       "    }\n",
       "\n",
       "    .dataframe tbody tr th {\n",
       "        vertical-align: top;\n",
       "    }\n",
       "\n",
       "    .dataframe thead th {\n",
       "        text-align: right;\n",
       "    }\n",
       "</style>\n",
       "<table border=\"1\" class=\"dataframe\">\n",
       "  <thead>\n",
       "    <tr style=\"text-align: right;\">\n",
       "      <th></th>\n",
       "      <th>0</th>\n",
       "      <th>1</th>\n",
       "      <th>2</th>\n",
       "    </tr>\n",
       "  </thead>\n",
       "  <tbody>\n",
       "    <tr>\n",
       "      <th>0</th>\n",
       "      <td>3</td>\n",
       "      <td>3</td>\n",
       "      <td>unions representing workers at turner   newall...</td>\n",
       "    </tr>\n",
       "    <tr>\n",
       "      <th>1</th>\n",
       "      <td>4</td>\n",
       "      <td>4</td>\n",
       "      <td>space.com - toronto, canada -- a second team o...</td>\n",
       "    </tr>\n",
       "    <tr>\n",
       "      <th>2</th>\n",
       "      <td>4</td>\n",
       "      <td>4</td>\n",
       "      <td>ap - a company founded by a chemistry research...</td>\n",
       "    </tr>\n",
       "    <tr>\n",
       "      <th>3</th>\n",
       "      <td>4</td>\n",
       "      <td>4</td>\n",
       "      <td>ap - it's barely dawn when mike fitzpatrick st...</td>\n",
       "    </tr>\n",
       "    <tr>\n",
       "      <th>4</th>\n",
       "      <td>4</td>\n",
       "      <td>4</td>\n",
       "      <td>ap - southern california's smog-fighting agenc...</td>\n",
       "    </tr>\n",
       "    <tr>\n",
       "      <th>5</th>\n",
       "      <td>4</td>\n",
       "      <td>4</td>\n",
       "      <td>the british department for education and skill...</td>\n",
       "    </tr>\n",
       "    <tr>\n",
       "      <th>6</th>\n",
       "      <td>4</td>\n",
       "      <td>4</td>\n",
       "      <td>\"sven jaschan, self-confessed author of the ...</td>\n",
       "    </tr>\n",
       "    <tr>\n",
       "      <th>7</th>\n",
       "      <td>4</td>\n",
       "      <td>4</td>\n",
       "      <td>foaf/loaf  and bloom filters have a lot of i...</td>\n",
       "    </tr>\n",
       "    <tr>\n",
       "      <th>8</th>\n",
       "      <td>4</td>\n",
       "      <td>4</td>\n",
       "      <td>wiltshire police warns about \"phishing\" after ...</td>\n",
       "    </tr>\n",
       "    <tr>\n",
       "      <th>9</th>\n",
       "      <td>4</td>\n",
       "      <td>4</td>\n",
       "      <td>in its first two years, the uk's dedicated car...</td>\n",
       "    </tr>\n",
       "  </tbody>\n",
       "</table>\n",
       "</div>"
      ],
      "text/plain": [
       "   0  1                                                  2\n",
       "0  3  3  unions representing workers at turner   newall...\n",
       "1  4  4  space.com - toronto, canada -- a second team o...\n",
       "2  4  4  ap - a company founded by a chemistry research...\n",
       "3  4  4  ap - it's barely dawn when mike fitzpatrick st...\n",
       "4  4  4  ap - southern california's smog-fighting agenc...\n",
       "5  4  4  the british department for education and skill...\n",
       "6  4  4    \"sven jaschan, self-confessed author of the ...\n",
       "7  4  4    foaf/loaf  and bloom filters have a lot of i...\n",
       "8  4  4  wiltshire police warns about \"phishing\" after ...\n",
       "9  4  4  in its first two years, the uk's dedicated car..."
      ]
     },
     "execution_count": 13,
     "metadata": {},
     "output_type": "execute_result"
    }
   ],
   "source": [
    "test_df_[0:10]\n",
    "\n"
   ]
  },
  {
   "cell_type": "code",
   "execution_count": 14,
   "metadata": {
    "uuid": "9e962d51-f292-4a7b-b752-901db85fb4ef"
   },
   "outputs": [],
   "source": [
    "\n",
    "train_df_.to_csv('./train.csv',header = None, index = False)\n",
    "test_df_.to_csv('./test.csv', header = None, index = False)\n",
    "\n",
    "\n"
   ]
  },
  {
   "cell_type": "code",
   "execution_count": 1,
   "metadata": {
    "uuid": "472b9424-5174-4937-ac66-a8ee98415d25"
   },
   "outputs": [],
   "source": [
    "from pytorch_transformers import *\n",
    "tokenizer = BertTokenizer.from_pretrained('bert-base-uncased')"
   ]
  },
  {
   "cell_type": "code",
   "execution_count": 34,
   "metadata": {
    "uuid": "ea620bff-686e-4553-b75f-ed1c8102461a"
   },
   "outputs": [
    {
     "data": {
      "application/vnd.jupyter.widget-view+json": {
       "model_id": "e2b5b20a21ea4875bf2e610fd0848ab1",
       "version_major": 2,
       "version_minor": 0
      },
      "text/plain": [
       "HBox(children=(IntProgress(value=0, max=120000), HTML(value='')))"
      ]
     },
     "metadata": {},
     "output_type": "display_data"
    },
    {
     "name": "stdout",
     "output_type": "stream",
     "text": [
      "\n"
     ]
    }
   ],
   "source": [
    "length = []\n",
    "for i in tqdm(range(0, len(train_df_['2']))):\n",
    "    tokens = tokenizer.tokenize(train_df_['2'][i])\n",
    "    length.append(len(tokens))"
   ]
  },
  {
   "cell_type": "code",
   "execution_count": 17,
   "metadata": {
    "uuid": "0b6a1634-0a69-466e-b22d-3308de1604d9"
   },
   "outputs": [
    {
     "data": {
      "text/plain": [
       "count    120000.000000\n",
       "mean         50.943175\n",
       "std          18.874404\n",
       "min          12.000000\n",
       "25%          41.000000\n",
       "50%          48.000000\n",
       "75%          57.000000\n",
       "90%          67.000000\n",
       "95%          79.000000\n",
       "98%         109.000000\n",
       "99%         122.000000\n",
       "max         377.000000\n",
       "dtype: float64"
      ]
     },
     "execution_count": 17,
     "metadata": {},
     "output_type": "execute_result"
    }
   ],
   "source": [
    "\n",
    "df_ana = pd.Series(length)\n",
    "df_ana.describe(percentiles=[0.25, 0.5, 0.75, 0.9, 0.95, 0.98, 0.99])"
   ]
  },
  {
   "cell_type": "code",
   "execution_count": null,
   "metadata": {
    "uuid": "0bacf5b2-af45-4888-bf3a-66cbd115a4ef"
   },
   "outputs": [],
   "source": [
    "max(length)"
   ]
  },
  {
   "cell_type": "code",
   "execution_count": null,
   "metadata": {
    "uuid": "0ebd44de-b892-4218-b81d-b043a66cc7ae"
   },
   "outputs": [],
   "source": [
    "total = 0\n",
    " \n",
    "\n",
    "for ele in range(0, len(length)):\n",
    "    total = total + length[ele]\n",
    "\n"
   ]
  },
  {
   "cell_type": "code",
   "execution_count": null,
   "metadata": {
    "uuid": "318265dc-cac2-400d-ab37-0dfa99b7d337"
   },
   "outputs": [],
   "source": [
    "total/len(length)"
   ]
  },
  {
   "cell_type": "code",
   "execution_count": null,
   "metadata": {
    "uuid": "cce173c6-2c57-496d-816d-c71cfbb8ca68"
   },
   "outputs": [],
   "source": []
  }
 ],
 "metadata": {
  "kernelspec": {
   "display_name": "Python 3",
   "language": "python",
   "name": "python3"
  },
  "language_info": {
   "codemirror_mode": {
    "name": "ipython",
    "version": 3
   },
   "file_extension": ".py",
   "mimetype": "text/x-python",
   "name": "python",
   "nbconvert_exporter": "python",
   "pygments_lexer": "ipython3",
   "version": "3.6.12"
  }
 },
 "nbformat": 4,
 "nbformat_minor": 4
}
