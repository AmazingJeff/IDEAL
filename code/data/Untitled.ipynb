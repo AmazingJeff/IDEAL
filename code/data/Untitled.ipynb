{
 "cells": [
  {
   "cell_type": "code",
   "execution_count": 2,
   "metadata": {
    "uuid": "1286ee4b-d6fe-489f-9b17-205fa455cc7a"
   },
   "outputs": [],
   "source": [
    "import pickle"
   ]
  },
  {
   "cell_type": "code",
   "execution_count": 16,
   "metadata": {
    "uuid": "b520244d-d49d-474e-addf-b86d104ff424"
   },
   "outputs": [],
   "source": [
    "file_vector = open(\"./ru_11.pkl\", 'rb')\n",
    "data_vector1 = pickle.load(file_vector)"
   ]
  },
  {
   "cell_type": "code",
   "execution_count": 17,
   "metadata": {
    "uuid": "3e7d2c6b-4afd-4d40-bbf7-fb2d23f6715a"
   },
   "outputs": [],
   "source": [
    "file_vector = open(\"./ru_12.pkl\", 'rb')\n",
    "data_vector2 = pickle.load(file_vector)"
   ]
  },
  {
   "cell_type": "code",
   "execution_count": 18,
   "metadata": {
    "uuid": "6764abad-7518-4006-9ecf-3ad02535a518"
   },
   "outputs": [],
   "source": [
    "file_vector = open(\"./ru_13.pkl\", 'rb')\n",
    "data_vector3 = pickle.load(file_vector)"
   ]
  },
  {
   "cell_type": "code",
   "execution_count": 19,
   "metadata": {
    "uuid": "4eb883ba-eb95-45a6-93bc-3055c58490de"
   },
   "outputs": [],
   "source": [
    "file_vector = open(\"./ru_14.pkl\", 'rb')\n",
    "data_vector4 = pickle.load(file_vector)"
   ]
  },
  {
   "cell_type": "code",
   "execution_count": 20,
   "metadata": {
    "uuid": "21142598-6aa1-47bf-afc7-c8cf151329ed"
   },
   "outputs": [],
   "source": [
    "file_vector = open(\"./ru_15.pkl\", 'rb')\n",
    "data_vector5 = pickle.load(file_vector)"
   ]
  },
  {
   "cell_type": "code",
   "execution_count": 21,
   "metadata": {
    "uuid": "76feb6f5-2904-48bf-959c-7f797c03d923"
   },
   "outputs": [],
   "source": [
    "file_vector = open(\"./ru_16.pkl\", 'rb')\n",
    "data_vector6 = pickle.load(file_vector)"
   ]
  },
  {
   "cell_type": "code",
   "execution_count": 26,
   "metadata": {
    "uuid": "1064d2a7-719c-4ed5-a358-c15cd5614028"
   },
   "outputs": [],
   "source": [
    "data_vector1.update(data_vector6)"
   ]
  },
  {
   "cell_type": "code",
   "execution_count": 27,
   "metadata": {
    "uuid": "ef96abd5-740d-4834-9f5b-ff4fa356c97f"
   },
   "outputs": [
    {
     "name": "stdout",
     "output_type": "stream",
     "text": [
      "120000\n"
     ]
    }
   ],
   "source": [
    "print(len(data_vector1.keys()))"
   ]
  },
  {
   "cell_type": "code",
   "execution_count": 28,
   "metadata": {
    "uuid": "23e37e7f-c4c4-4617-b85b-8cdf035b8e64"
   },
   "outputs": [],
   "source": [
    "with open('./ru_1.pkl', 'wb') as f:\n",
    "        pickle.dump(data_vector1, f)"
   ]
  },
  {
   "cell_type": "code",
   "execution_count": null,
   "metadata": {
    "uuid": "572760bd-a38d-4772-95ed-81ccc67fdb5d"
   },
   "outputs": [],
   "source": []
  }
 ],
 "metadata": {
  "kernelspec": {
   "display_name": "Python 3",
   "language": "python",
   "name": "python3"
  },
  "language_info": {
   "codemirror_mode": {
    "name": "ipython",
    "version": 3
   },
   "file_extension": ".py",
   "mimetype": "text/x-python",
   "name": "python",
   "nbconvert_exporter": "python",
   "pygments_lexer": "ipython3",
   "version": "3.6.12"
  }
 },
 "nbformat": 4,
 "nbformat_minor": 4
}
